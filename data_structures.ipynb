{
 "cells": [
  {
   "cell_type": "markdown",
   "id": "250d9a06",
   "metadata": {},
   "source": [
    "Data Structures: Lists, Tuples, Sets and Dictionary"
   ]
  },
  {
   "cell_type": "markdown",
   "id": "4698f711",
   "metadata": {},
   "source": [
    "**Lists**\n",
    ":The characterstics of Lists are given below:\n",
    "(1) Lists are the data structures in python that are mutuable, changeable, ordered sequence of elements.\n",
    "(2) Each value inside the list is called an item.\n",
    "(3) Lists are defined by having values between square brackets []."
   ]
  },
  {
   "cell_type": "markdown",
   "id": "f5e28b95",
   "metadata": {},
   "source": [
    "**Append():** \n",
    "(1) It is an inbuilt function in the list. It adds the element at the end of the list.\n",
    "(2) It has one drawback is that is adds only one argument (or parameter) at a time. \n",
    "\n",
    "Ques. How can we add the elements in the lists?\n",
    "Ans: We can add the elements in the lists with the help of append function. Let's go through with an example."
   ]
  },
  {
   "cell_type": "code",
   "execution_count": 11,
   "id": "3be3d71e",
   "metadata": {},
   "outputs": [
    {
     "data": {
      "text/plain": [
       "[2, 4, 5, 6, 8, 9, 10, 12, 13, 15, 12, 'Rahul']"
      ]
     },
     "execution_count": 11,
     "metadata": {},
     "output_type": "execute_result"
    }
   ],
   "source": [
    "lst = [2,4,5,6,8,9,10,12,13,15,12]\n",
    "lst.append('Rahul')\n",
    "lst"
   ]
  },
  {
   "cell_type": "markdown",
   "id": "d9ac05e5",
   "metadata": {},
   "source": [
    "**Indexing in Lists:**\n",
    "(1) To retrieve an element of the list, we use the index operator []. \n",
    "(2) Lists are “zero indexed”, so [0] returns the zero-th (i.e. the left-most) item in the list, and [1] returns the one-th item (i.e. one item to the right of the zero-th item).\n",
    "(3) Python also allows you to index from the end of the list using a negative number, where [-1] returns the last element.\n",
    "Let's understand with the help of few examples."
   ]
  },
  {
   "cell_type": "code",
   "execution_count": 14,
   "id": "f69422c9",
   "metadata": {},
   "outputs": [
    {
     "data": {
      "text/plain": [
       "9"
      ]
     },
     "execution_count": 14,
     "metadata": {},
     "output_type": "execute_result"
    }
   ],
   "source": [
    "lst[5]"
   ]
  },
  {
   "cell_type": "code",
   "execution_count": 15,
   "id": "e2c99c9e",
   "metadata": {},
   "outputs": [
    {
     "data": {
      "text/plain": [
       "8"
      ]
     },
     "execution_count": 15,
     "metadata": {},
     "output_type": "execute_result"
    }
   ],
   "source": [
    "lst[4]"
   ]
  },
  {
   "cell_type": "code",
   "execution_count": 16,
   "id": "4c2f3dfc",
   "metadata": {},
   "outputs": [
    {
     "data": {
      "text/plain": [
       "'Rahul'"
      ]
     },
     "execution_count": 16,
     "metadata": {},
     "output_type": "execute_result"
    }
   ],
   "source": [
    "lst[-1]"
   ]
  },
  {
   "cell_type": "markdown",
   "id": "1e2b7c58",
   "metadata": {},
   "source": [
    "**String Slicing:\n",
    "(1) Basically string slicing contains two parameters, i.e; [start:stop]. "
   ]
  },
  {
   "cell_type": "code",
   "execution_count": 17,
   "id": "c9181e74",
   "metadata": {},
   "outputs": [
    {
     "name": "stdout",
     "output_type": "stream",
     "text": [
      "[4, 5, 7, 89]\n"
     ]
    }
   ],
   "source": [
    "lst = [1,2,3,4,5,7,89,10,'Rahul','Karun']\n",
    "print(lst[3:7])"
   ]
  },
  {
   "cell_type": "code",
   "execution_count": 24,
   "id": "dd89226d",
   "metadata": {},
   "outputs": [
    {
     "name": "stdout",
     "output_type": "stream",
     "text": [
      "[3, 4, 5, 7, 89, 10, 'Rahul', 'Karun']\n"
     ]
    }
   ],
   "source": [
    "print(lst[2:10])"
   ]
  },
  {
   "cell_type": "code",
   "execution_count": 20,
   "id": "7e609f6f",
   "metadata": {},
   "outputs": [
    {
     "name": "stdout",
     "output_type": "stream",
     "text": [
      "[5, 7, 89]\n"
     ]
    }
   ],
   "source": [
    "print(lst[-6:-3])"
   ]
  },
  {
   "cell_type": "code",
   "execution_count": 30,
   "id": "ffe1197c",
   "metadata": {},
   "outputs": [
    {
     "name": "stdout",
     "output_type": "stream",
     "text": [
      "[3, 4, 5, 7, 89, 10, 'Rahul']\n"
     ]
    }
   ],
   "source": [
    "print(lst[-8:-1])"
   ]
  },
  {
   "cell_type": "markdown",
   "id": "8e6dcff7",
   "metadata": {},
   "source": [
    "**Extend Function:**\n",
    "*It is an upodated version of append fucntion because it adds 'n' number of values at the end of the list. Below is an example to understand it in a better way:"
   ]
  },
  {
   "cell_type": "code",
   "execution_count": 32,
   "id": "d83769d4",
   "metadata": {},
   "outputs": [
    {
     "data": {
      "text/plain": [
       "[1, 2, 3, 4, 5, 7, 89, 10, 'Rahul', 'Karun', 'krish', 'Naik', 9, 0]"
      ]
     },
     "execution_count": 32,
     "metadata": {},
     "output_type": "execute_result"
    }
   ],
   "source": [
    "lst = [1,2,3,4,5,7,89,10,'Rahul','Karun']\n",
    "lst.extend(['krish','Naik',9,0])\n",
    "lst"
   ]
  },
  {
   "cell_type": "markdown",
   "id": "ca2404af",
   "metadata": {},
   "source": [
    "**Sets:**\n",
    "(1) Sets do not allow duplication of elements. \n",
    "(2) It doesn't support indexing.\n",
    "(3) It is an unordered collection data type that is iterable, mutuable and has no duplicate element.\n",
    "The code to remove duplicates is-"
   ]
  },
  {
   "cell_type": "code",
   "execution_count": 36,
   "id": "1da4bee1",
   "metadata": {},
   "outputs": [
    {
     "data": {
      "text/plain": [
       "{1, 2, 33, 44, 55}"
      ]
     },
     "execution_count": 36,
     "metadata": {},
     "output_type": "execute_result"
    }
   ],
   "source": [
    "set = {1,2,33,33,44,55,33,55}\n",
    "set"
   ]
  },
  {
   "cell_type": "markdown",
   "id": "02951870",
   "metadata": {},
   "source": [
    "Ques: How can we add the elements in the set?\n",
    "Ans: We can add the elements in the set with the help of add function whereas in list we use append function as we study earlier. It also has the same drawback as the append fucntion as it takes only one argument at a time."
   ]
  },
  {
   "cell_type": "code",
   "execution_count": 40,
   "id": "8660179d",
   "metadata": {},
   "outputs": [
    {
     "data": {
      "text/plain": [
       "{1, 2, 33, 44, 55, 'Hulk'}"
      ]
     },
     "execution_count": 40,
     "metadata": {},
     "output_type": "execute_result"
    }
   ],
   "source": [
    "set.add('Hulk')\n",
    "set"
   ]
  },
  {
   "cell_type": "markdown",
   "id": "7475017f",
   "metadata": {},
   "source": [
    "**Tuples:**\n",
    "The characterstics of Tuples are given below:\n",
    "1: In tupples, we store an ordered collection of elements. \n",
    "2: We cannot modify the elements of tuples once created, i.e., they are immutable. \n",
    "3: Deletion of tuples is allowed but moodification is not.\n",
    "\n",
    "The two methods in tuple are: count() index()"
   ]
  },
  {
   "cell_type": "code",
   "execution_count": 43,
   "id": "585b4735",
   "metadata": {},
   "outputs": [
    {
     "data": {
      "text/plain": [
       "2"
      ]
     },
     "execution_count": 43,
     "metadata": {},
     "output_type": "execute_result"
    }
   ],
   "source": [
    "T1=(1,2,3,\"Ritesh\", 1,\"DS\")\n",
    "T1.count(1)"
   ]
  },
  {
   "cell_type": "code",
   "execution_count": 45,
   "id": "a5a458f0",
   "metadata": {},
   "outputs": [
    {
     "data": {
      "text/plain": [
       "1"
      ]
     },
     "execution_count": 45,
     "metadata": {},
     "output_type": "execute_result"
    }
   ],
   "source": [
    "T1.index(2)"
   ]
  },
  {
   "cell_type": "markdown",
   "id": "d1e1ab8f",
   "metadata": {},
   "source": [
    "**Tuples have only two built-in methods as their goal is just to store data so they don't require as much functions as for lists."
   ]
  },
  {
   "cell_type": "markdown",
   "id": "f6ac1d52",
   "metadata": {},
   "source": [
    "**Dictionaries**: \n",
    "A Dictionary is a built-in data structure in python that allows to store an unordered collection of key-value pairs. Example of a dictionary is person = {\"name\":\"Ritesh\",\"Age\":28,\"City\":\"Lucknow\"} Dictionary is unordered.\n",
    "If value of a dictionary is also a dictionary then it is called a nested dictionary. "
   ]
  },
  {
   "cell_type": "code",
   "execution_count": 52,
   "id": "c6c92f05",
   "metadata": {},
   "outputs": [
    {
     "data": {
      "text/plain": [
       "'Hiten'"
      ]
     },
     "execution_count": 52,
     "metadata": {},
     "output_type": "execute_result"
    }
   ],
   "source": [
    "dic={\"name\":\"Hiten\",\"Age\":26,\"Address\":{\"City\":\"Delhi\",\"Sector\":\"D\"}}\n",
    "dic['name']"
   ]
  },
  {
   "cell_type": "code",
   "execution_count": 57,
   "id": "ae781acb",
   "metadata": {},
   "outputs": [
    {
     "data": {
      "text/plain": [
       "'Delhi'"
      ]
     },
     "execution_count": 57,
     "metadata": {},
     "output_type": "execute_result"
    }
   ],
   "source": [
    "dic['Address']['City']"
   ]
  },
  {
   "cell_type": "markdown",
   "id": "75213982",
   "metadata": {},
   "source": [
    "**For loop:**\n",
    "In Python, dictionaries have three view objects: keys(), values(), and items(). These methods return a view object that displays a list-like object of all the keys, values, or both key-value pairs, respectively.\n",
    "\n",
    "Here's how you can use the three in-built methods to display these three view objects for the dictionary dic:\n",
    "Using the for loop, we help to determine the key, values and key-value pairs. Below are the illustrations:"
   ]
  },
  {
   "cell_type": "code",
   "execution_count": 63,
   "id": "3fd40bfb",
   "metadata": {},
   "outputs": [
    {
     "name": "stdout",
     "output_type": "stream",
     "text": [
      "name\n",
      "Age\n",
      "Address\n"
     ]
    }
   ],
   "source": [
    "for x in dic:\n",
    "    print(x)"
   ]
  },
  {
   "cell_type": "code",
   "execution_count": 61,
   "id": "15f90c50",
   "metadata": {},
   "outputs": [
    {
     "name": "stdout",
     "output_type": "stream",
     "text": [
      "Hiten\n",
      "26\n",
      "{'City': 'Delhi', 'Sector': 'D'}\n"
     ]
    }
   ],
   "source": [
    "for x in dic.values():\n",
    "    print (x)"
   ]
  },
  {
   "cell_type": "code",
   "execution_count": 64,
   "id": "464a0a98",
   "metadata": {},
   "outputs": [
    {
     "name": "stdout",
     "output_type": "stream",
     "text": [
      "('name', 'Hiten')\n",
      "('Age', 26)\n",
      "('Address', {'City': 'Delhi', 'Sector': 'D'})\n"
     ]
    }
   ],
   "source": [
    "for x in dic.items():\n",
    "    print(x)"
   ]
  },
  {
   "cell_type": "code",
   "execution_count": 68,
   "id": "3dc0ad0a",
   "metadata": {},
   "outputs": [
    {
     "data": {
      "text/plain": [
       "{'name': 'Hiten',\n",
       " 'Age': 26,\n",
       " 'Address': {'City': 'Delhi', 'Sector': 'D'},\n",
       " 'D.o.b': '05-12-1997'}"
      ]
     },
     "execution_count": 68,
     "metadata": {},
     "output_type": "execute_result"
    }
   ],
   "source": [
    "dic[\"D.o.b\"]= \"05-12-1997\"\n",
    "dic"
   ]
  },
  {
   "cell_type": "markdown",
   "id": "1aea3fb0",
   "metadata": {},
   "source": [
    "You can use the setdefault() method to add a key-value pair to a dictionary in Python. The setdefault() method creates the key if it does not exist in the dictionary and sets its value to the specified default value.\n",
    "\n",
    "Here's how you can use setdefault() to create a key named 'topics' with the value ['Python', 'Machine Learning', 'Deep Learning'] in the dictionary dict1:"
   ]
  },
  {
   "cell_type": "code",
   "execution_count": 69,
   "id": "edc6267b",
   "metadata": {},
   "outputs": [
    {
     "data": {
      "text/plain": [
       "{'language': 'Python',\n",
       " 'course': 'Data Science Masters',\n",
       " 'topics': ['Python', 'Machine Learning', 'Deep Learning']}"
      ]
     },
     "execution_count": 69,
     "metadata": {},
     "output_type": "execute_result"
    }
   ],
   "source": [
    "dict1 = {'language' : 'Python', 'course': 'Data Science Masters'}\n",
    "dict1.setdefault('topics', ['Python', 'Machine Learning', 'Deep Learning'])\n",
    "dict1"
   ]
  }
 ],
 "metadata": {
  "kernelspec": {
   "display_name": "Python 3 (ipykernel)",
   "language": "python",
   "name": "python3"
  },
  "language_info": {
   "codemirror_mode": {
    "name": "ipython",
    "version": 3
   },
   "file_extension": ".py",
   "mimetype": "text/x-python",
   "name": "python",
   "nbconvert_exporter": "python",
   "pygments_lexer": "ipython3",
   "version": "3.9.13"
  }
 },
 "nbformat": 4,
 "nbformat_minor": 5
}
